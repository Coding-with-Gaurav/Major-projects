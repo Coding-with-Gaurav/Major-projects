{
 "cells": [
  {
   "cell_type": "markdown",
   "metadata": {},
   "source": [
    "# Extract relationshipts between concepts\n",
    "Currently not using this"
   ]
  },
  {
   "cell_type": "code",
   "execution_count": 14,
   "metadata": {},
   "outputs": [
    {
     "name": "stdout",
     "output_type": "stream",
     "text": [
      "Requirement already satisfied: ollama in c:\\users\\23146007\\.conda\\envs\\kg\\lib\\site-packages (0.3.3)\n",
      "Requirement already satisfied: httpx<0.28.0,>=0.27.0 in c:\\users\\23146007\\.conda\\envs\\kg\\lib\\site-packages (from ollama) (0.27.2)\n",
      "Requirement already satisfied: anyio in c:\\users\\23146007\\.conda\\envs\\kg\\lib\\site-packages (from httpx<0.28.0,>=0.27.0->ollama) (4.6.0)\n",
      "Requirement already satisfied: certifi in c:\\users\\23146007\\.conda\\envs\\kg\\lib\\site-packages (from httpx<0.28.0,>=0.27.0->ollama) (2024.8.30)\n",
      "Requirement already satisfied: httpcore==1.* in c:\\users\\23146007\\.conda\\envs\\kg\\lib\\site-packages (from httpx<0.28.0,>=0.27.0->ollama) (1.0.6)\n",
      "Requirement already satisfied: idna in c:\\users\\23146007\\.conda\\envs\\kg\\lib\\site-packages (from httpx<0.28.0,>=0.27.0->ollama) (3.10)\n",
      "Requirement already satisfied: sniffio in c:\\users\\23146007\\.conda\\envs\\kg\\lib\\site-packages (from httpx<0.28.0,>=0.27.0->ollama) (1.3.1)\n",
      "Requirement already satisfied: h11<0.15,>=0.13 in c:\\users\\23146007\\.conda\\envs\\kg\\lib\\site-packages (from httpcore==1.*->httpx<0.28.0,>=0.27.0->ollama) (0.14.0)\n"
     ]
    }
   ],
   "source": [
    "!Pip install ollama "
   ]
  },
  {
   "cell_type": "code",
   "execution_count": 19,
   "metadata": {},
   "outputs": [
    {
     "ename": "ModuleNotFoundError",
     "evalue": "No module named 'ollama.client'",
     "output_type": "error",
     "traceback": [
      "\u001b[1;31m---------------------------------------------------------------------------\u001b[0m",
      "\u001b[1;31mModuleNotFoundError\u001b[0m                       Traceback (most recent call last)",
      "Cell \u001b[1;32mIn[19], line 1\u001b[0m\n\u001b[1;32m----> 1\u001b[0m \u001b[38;5;28;01mimport\u001b[39;00m \u001b[38;5;21;01mollama\u001b[39;00m\u001b[38;5;21;01m.\u001b[39;00m\u001b[38;5;21;01mclient\u001b[39;00m \u001b[38;5;28;01mas\u001b[39;00m \u001b[38;5;21;01mclient\u001b[39;00m\n\u001b[0;32m      2\u001b[0m client\u001b[38;5;241m.\u001b[39mlist()\n",
      "\u001b[1;31mModuleNotFoundError\u001b[0m: No module named 'ollama.client'"
     ]
    }
   ],
   "source": [
    "import ollama.client as client\n",
    "client.list()"
   ]
  },
  {
   "cell_type": "code",
   "execution_count": 20,
   "metadata": {},
   "outputs": [
    {
     "ename": "NameError",
     "evalue": "name 'client' is not defined",
     "output_type": "error",
     "traceback": [
      "\u001b[1;31m---------------------------------------------------------------------------\u001b[0m",
      "\u001b[1;31mNameError\u001b[0m                                 Traceback (most recent call last)",
      "Cell \u001b[1;32mIn[20], line 3\u001b[0m\n\u001b[0;32m      1\u001b[0m mistral_instruct \u001b[38;5;241m=\u001b[39m \u001b[38;5;124m'\u001b[39m\u001b[38;5;124mmistral:instruct\u001b[39m\u001b[38;5;124m'\u001b[39m\n\u001b[0;32m      2\u001b[0m mistral_openorca \u001b[38;5;241m=\u001b[39m \u001b[38;5;124m'\u001b[39m\u001b[38;5;124mmistral-openorca:latest\u001b[39m\u001b[38;5;124m'\u001b[39m\n\u001b[1;32m----> 3\u001b[0m mcard \u001b[38;5;241m=\u001b[39m \u001b[43mclient\u001b[49m\u001b[38;5;241m.\u001b[39mshow(mistral_openorca)\n\u001b[0;32m      4\u001b[0m mcard[\u001b[38;5;124m'\u001b[39m\u001b[38;5;124mtemplate\u001b[39m\u001b[38;5;124m'\u001b[39m]\n",
      "\u001b[1;31mNameError\u001b[0m: name 'client' is not defined"
     ]
    }
   ],
   "source": [
    "mistral_instruct = 'mistral:instruct'\n",
    "mistral_openorca = 'mistral-openorca:latest'\n",
    "mcard = client.show(mistral_openorca)\n",
    "mcard['template']"
   ]
  },
  {
   "cell_type": "code",
   "execution_count": 21,
   "metadata": {},
   "outputs": [
    {
     "ename": "NameError",
     "evalue": "name 'client' is not defined",
     "output_type": "error",
     "traceback": [
      "\u001b[1;31m---------------------------------------------------------------------------\u001b[0m",
      "\u001b[1;31mNameError\u001b[0m                                 Traceback (most recent call last)",
      "Cell \u001b[1;32mIn[21], line 48\u001b[0m\n\u001b[0;32m     17\u001b[0m prompt \u001b[38;5;241m=\u001b[39m \u001b[38;5;124m\"\"\"\u001b[39m\n\u001b[0;32m     18\u001b[0m \u001b[38;5;124mEntites: [\u001b[39m\u001b[38;5;124m'\u001b[39m\u001b[38;5;124mCryosurgery\u001b[39m\u001b[38;5;124m'\u001b[39m\u001b[38;5;124m, \u001b[39m\u001b[38;5;124m'\u001b[39m\u001b[38;5;124mnon-narcotic pain\u001b[39m\u001b[38;5;124m'\u001b[39m\u001b[38;5;124m].\u001b[39m\n\u001b[0;32m     19\u001b[0m \n\u001b[1;32m   (...)\u001b[0m\n\u001b[0;32m     44\u001b[0m \u001b[38;5;124m```\u001b[39m\n\u001b[0;32m     45\u001b[0m \u001b[38;5;124m\"\"\"\u001b[39m\n\u001b[0;32m     47\u001b[0m combined_prompt \u001b[38;5;241m=\u001b[39m system_prompt \u001b[38;5;241m+\u001b[39m \u001b[38;5;124m\"\u001b[39m\u001b[38;5;130;01m\\n\u001b[39;00m\u001b[38;5;124m\"\u001b[39m \u001b[38;5;241m+\u001b[39m prompt\n\u001b[1;32m---> 48\u001b[0m response, context \u001b[38;5;241m=\u001b[39m \u001b[43mclient\u001b[49m\u001b[38;5;241m.\u001b[39mgenerate(\n\u001b[0;32m     49\u001b[0m     model_name\u001b[38;5;241m=\u001b[39mmistral_openorca, prompt\u001b[38;5;241m=\u001b[39mprompt, system\u001b[38;5;241m=\u001b[39msystem_prompt\n\u001b[0;32m     50\u001b[0m )\n",
      "\u001b[1;31mNameError\u001b[0m: name 'client' is not defined"
     ]
    }
   ],
   "source": [
    "system_prompt = \"\"\"\n",
    "Your task is to find find a relationships between the entities given as a python list.\\n\n",
    "You can use the provided context (delimited between ```) and no other prior knowledge. \\n\n",
    "Follow this chain of thought\n",
    "Thought 1: What are the two entities as per the context. \n",
    "Thought 2: What is the relationship between the given entities as per the given context?. \n",
    "Thought 3: Is this a direct relationship as per the context.\n",
    "Format your response as JSON with the following structure:\\n\n",
    "{ \n",
    "    \"Entity 1\": First Entity,\n",
    "    \"Entity 2\": Second Entity,\n",
    "    \"Relationship\": Explain the Relationship,\n",
    "    \"Related\": 'Yes' only if a direct relation can be infered, otherwise 'No'\n",
    "}\n",
    "\"\"\"\n",
    "\n",
    "prompt = \"\"\"\n",
    "Entites: ['Cryosurgery', 'non-narcotic pain'].\n",
    "\n",
    "Context:  ``` \n",
    "The two primary types of cancer surgery are open surgery and minimally invasive surgery.\n",
    "\n",
    "In open surgery, the surgical oncologist makes a large incision, usually to remove all or part of a tumor and some of the surrounding healthy tissue (margins).\n",
    "\n",
    "Minimally invasive surgical techniques may involve the techniques listed below.\n",
    "\n",
    "Laparoscopy: A surgical oncologist makes a few small incisions and inserts a laparoscope —a thin tube with a tiny camera attached to it—into one of the incisions to capture an interior image, while inserting surgical tools into the other incisions to excise malignancies and surrounding tissue.\n",
    "\n",
    "Laser surgery: The surgeon uses a narrow beam of high-intensity light to remove a tumor.\n",
    "\n",
    "Cryosurgery: The surgeon uses liquid nitrogen to freeze and kill cancer cells.\n",
    "\n",
    "Robotic surgery: This surgery is similar to a laparoscopic surgery. However, instead of manipulating surgical tools by hand, the surgeon uses a computer console to operate the robotic tools.\n",
    "\n",
    "Other procedures, such as endoscopies, embolization, Mohs micrographic surgery and pleuroscopies, may be performed by non-surgeons, including dermatologists, radiation oncologists and interventional pulmonologists, depending on the procedure.\n",
    "\n",
    "Non-surgical treatments may take place before surgery (neoadjuvant therapy) or after surgery (adjuvant therapy) to help prevent cancer growth, metastasis or recurrence. The treatments may include chemotherapy, radiation therapy or hormone therapy.\n",
    "\n",
    "The Advanced Surgical Recovery Program (ASURE) at City of Hope is designed to help patients recover from surgery more quickly and with fewer complications. ASURE is intended to improve surgical outcomes and enhance the patient experience before, during and after surgery, while also reducing the length of a patient’s hospital stay.\n",
    "\n",
    "The program is delivered by City of Hope multidisciplinary teams, which include surgeons, anesthesiologists, nutritionists, behavioral health therapists, nurses and other clinicians. They work collaboratively to implement evidenced-informed protocols, all under one roof. ASURE combines post-surgical rehabilitation with pre-habilitation, by preparing patients before surgery.\n",
    "\n",
    "Typically, ASURE protocols involve nutrition, pain management with non-narcotic pain relievers and physical activity within 24 hours after surgery. The use of enhanced recovery methods like those used in ASURE has been shown to reduce fatigue, post-surgery complications and the amount of narcotics used in post-surgical care, while helping patients resume their everyday activities more quickly.\n",
    "```\n",
    "\"\"\"\n",
    "\n",
    "combined_prompt = system_prompt + \"\\n\" + prompt\n",
    "response, context = client.generate(\n",
    "    model_name=mistral_openorca, prompt=prompt, system=system_prompt\n",
    ")"
   ]
  },
  {
   "cell_type": "code",
   "execution_count": 22,
   "metadata": {},
   "outputs": [
    {
     "ename": "NameError",
     "evalue": "name 'client' is not defined",
     "output_type": "error",
     "traceback": [
      "\u001b[1;31m---------------------------------------------------------------------------\u001b[0m",
      "\u001b[1;31mNameError\u001b[0m                                 Traceback (most recent call last)",
      "Cell \u001b[1;32mIn[22], line 46\u001b[0m\n\u001b[0;32m     32\u001b[0m     \u001b[38;5;28;01mreturn\u001b[39;00m result\n\u001b[0;32m     34\u001b[0m \u001b[38;5;28minput\u001b[39m \u001b[38;5;241m=\u001b[39m \u001b[38;5;124m\"\"\"\u001b[39m\n\u001b[0;32m     35\u001b[0m \u001b[38;5;124mHealth data interoperability means the ability of different health information technology systems to communicate and exchange data with each other seamlessly, securely, and efficiently with the Patient’s consent. Interoperability enables health data to be shared among healthcare providers, hospitals, and other healthcare organisations, regardless of the technology platform they are using.\u001b[39m\n\u001b[0;32m     36\u001b[0m \u001b[38;5;124mSimply speaking, that means you should not be needed to lug your entire medical history in hard copy to every doctor, every time you sneeze. \u001b[39m\n\u001b[1;32m   (...)\u001b[0m\n\u001b[0;32m     43\u001b[0m \n\u001b[0;32m     44\u001b[0m \u001b[38;5;124m\"\"\"\u001b[39m\n\u001b[1;32m---> 46\u001b[0m res \u001b[38;5;241m=\u001b[39m \u001b[43mgraphPrompt\u001b[49m\u001b[43m(\u001b[49m\u001b[38;5;28;43minput\u001b[39;49m\u001b[43m)\u001b[49m\n",
      "Cell \u001b[1;32mIn[22], line 24\u001b[0m, in \u001b[0;36mgraphPrompt\u001b[1;34m(input, metadata, model)\u001b[0m\n\u001b[0;32m      5\u001b[0m \u001b[38;5;28;01mdef\u001b[39;00m \u001b[38;5;21mgraphPrompt\u001b[39m(\u001b[38;5;28minput\u001b[39m: \u001b[38;5;28mstr\u001b[39m, metadata\u001b[38;5;241m=\u001b[39m{}, model\u001b[38;5;241m=\u001b[39m\u001b[38;5;124m\"\u001b[39m\u001b[38;5;124mmistral-openorca:latest\u001b[39m\u001b[38;5;124m\"\u001b[39m):\n\u001b[0;32m      6\u001b[0m     SYS_PROMPT \u001b[38;5;241m=\u001b[39m (\n\u001b[0;32m      7\u001b[0m         \u001b[38;5;124m\"\u001b[39m\u001b[38;5;124mYou are a network graph maker. Your task is to extract a knowledge graph of ontologies from the given text. \u001b[39m\u001b[38;5;124m\"\u001b[39m\n\u001b[0;32m      8\u001b[0m         \u001b[38;5;124m\"\u001b[39m\u001b[38;5;124mThe graph is made in such a way that, nodes represent the key concepts discussed in the text. \u001b[39m\u001b[38;5;124m\"\u001b[39m\n\u001b[1;32m   (...)\u001b[0m\n\u001b[0;32m     22\u001b[0m         \u001b[38;5;124m\"\u001b[39m\u001b[38;5;124m]\u001b[39m\u001b[38;5;124m\"\u001b[39m\n\u001b[0;32m     23\u001b[0m     )\n\u001b[1;32m---> 24\u001b[0m     response, _ \u001b[38;5;241m=\u001b[39m \u001b[43mclient\u001b[49m\u001b[38;5;241m.\u001b[39mgenerate(model_name\u001b[38;5;241m=\u001b[39mmodel, system\u001b[38;5;241m=\u001b[39mSYS_PROMPT, prompt\u001b[38;5;241m=\u001b[39m\u001b[38;5;28minput\u001b[39m)\n\u001b[0;32m     25\u001b[0m     \u001b[38;5;28;01mtry\u001b[39;00m:\n\u001b[0;32m     26\u001b[0m         result \u001b[38;5;241m=\u001b[39m json\u001b[38;5;241m.\u001b[39mloads(response)\n",
      "\u001b[1;31mNameError\u001b[0m: name 'client' is not defined"
     ]
    }
   ],
   "source": [
    "import pandas as pd\n",
    "import json\n",
    "# from helpers.prompts import graphPrompt\n",
    "\n",
    "def graphPrompt(input: str, metadata={}, model=\"mistral-openorca:latest\"):\n",
    "    SYS_PROMPT = (\n",
    "        \"You are a network graph maker. Your task is to extract a knowledge graph of ontologies from the given text. \"\n",
    "        \"The graph is made in such a way that, nodes represent the key concepts discussed in the text. \"\n",
    "        \"The edges of the graph represent the relation between two concepts.\\n\"\n",
    "        \"Thought 1: Think about the key concepts or entities mentioned in the text.\"\n",
    "        \"           The concepts may include object, entity, location, organisation, person, condition, acronym, documents, services, concept, etc.\\n\"\n",
    "        \"Thought 2: Find out the pairs of concepts that are strongly related to each other.\\n \"\n",
    "        \"Thought 3: Find out the relation between each pairs. \\n\"\n",
    "        \"Format your output as a list of json. Each element of the list contains two nodes \"\n",
    "        \"and a relation between them, like the follwing: \\n\"\n",
    "        \"[\\n\"\n",
    "        \"   {\\n\"\n",
    "        \"       \\\"node_1\\\": \\\"first concept or entity\\\",\\n\"\n",
    "        \"       \\\"node_2': \\\"second concept or entity\\\",\\n\"\n",
    "        \"       \\\"edge': \\\"relationship between the two concepts, node_1 and node_2\\\"\\n\"\n",
    "        \"   }, {...}\\n\"\n",
    "        \"]\"\n",
    "    )\n",
    "    response, _ = client.generate(model_name=model, system=SYS_PROMPT, prompt=input)\n",
    "    try:\n",
    "        result = json.loads(response)\n",
    "        result = [dict(item, **metadata) for item in result]\n",
    "    except BaseException as error:\n",
    "        print(\"\\n\\nERROR ### Here is the buggy response: \", response, \"\\n\\n\")\n",
    "        print(error)\n",
    "        result = None\n",
    "    return result\n",
    "\n",
    "input = \"\"\"\n",
    "Health data interoperability means the ability of different health information technology systems to communicate and exchange data with each other seamlessly, securely, and efficiently with the Patient’s consent. Interoperability enables health data to be shared among healthcare providers, hospitals, and other healthcare organisations, regardless of the technology platform they are using.\n",
    "Simply speaking, that means you should not be needed to lug your entire medical history in hard copy to every doctor, every time you sneeze. \n",
    "We have all experienced going to a doctor carrying that big fat folder, filed with withering pages of our medical history. And when the doctor asks questions about the missing information, so hard we try to recollect the name of the drug prescribed by the last doctor, or our allergies (Thou shan’t forget those!). And still coming out of the cabin only to remember a crucial detail we forgot to mention… Dam! \n",
    "Well… that was an oversimplified — and slightly exaggerated for dramatic effect — reconstruction of my medical experiences visiting a doctor. But it drives the point home. Remember the mobile charger hell… it is like that, only the stakes are higher. \n",
    "Every healthcare service provider these days uses a technology platform to manage its services. This includes a Hospital management system (HMS), Electronic Health Record (EHR), Patient Record (PHR) system etc. In practical terms, health data interoperability means that healthcare information can be accessed by authorised providers across different systems, regardless of where the information was originally generated or stored. This includes data such as medical histories, lab results, imaging studies, Insurance coverage, and other clinical information.\n",
    "Apart from healthcare providers like a hospital or doctor’s clinics, The purview of Health Data Interoperability includes Diagnostic labs, Insurance providers, Pharmacies, Wellness Service providers (Gyms, Yoga centres), Mobile Health and Wellness (HnW) apps, Wearable devices (iPhone, Fitbit, Glucometer), Government Healthcare Schemes like CGHS etc, and even public health research. \n",
    "The lack of interoperability has been a major barrier to the adoption of health information technology and the sharing of patient data in the past. \n",
    "But before we dig deeper into that, we must Quench the Question that is Quintessential to the Quest for a change from the Quiescence. (Wow.. what a Quip.. right?)\n",
    "\n",
    "\"\"\"\n",
    "\n",
    "res = graphPrompt(input)"
   ]
  },
  {
   "cell_type": "code",
   "execution_count": 23,
   "metadata": {},
   "outputs": [
    {
     "ename": "NameError",
     "evalue": "name 'res' is not defined",
     "output_type": "error",
     "traceback": [
      "\u001b[1;31m---------------------------------------------------------------------------\u001b[0m",
      "\u001b[1;31mNameError\u001b[0m                                 Traceback (most recent call last)",
      "Cell \u001b[1;32mIn[23], line 1\u001b[0m\n\u001b[1;32m----> 1\u001b[0m \u001b[43mres\u001b[49m\n",
      "\u001b[1;31mNameError\u001b[0m: name 'res' is not defined"
     ]
    }
   ],
   "source": [
    "res"
   ]
  },
  {
   "cell_type": "code",
   "execution_count": 24,
   "metadata": {},
   "outputs": [
    {
     "ename": "NameError",
     "evalue": "name 'res' is not defined",
     "output_type": "error",
     "traceback": [
      "\u001b[1;31m---------------------------------------------------------------------------\u001b[0m",
      "\u001b[1;31mNameError\u001b[0m                                 Traceback (most recent call last)",
      "Cell \u001b[1;32mIn[24], line 1\u001b[0m\n\u001b[1;32m----> 1\u001b[0m df \u001b[38;5;241m=\u001b[39m pd\u001b[38;5;241m.\u001b[39mDataFrame(\u001b[43mres\u001b[49m)\n\u001b[0;32m      2\u001b[0m df\n",
      "\u001b[1;31mNameError\u001b[0m: name 'res' is not defined"
     ]
    }
   ],
   "source": [
    "df = pd.DataFrame(res)\n",
    "df"
   ]
  },
  {
   "cell_type": "code",
   "execution_count": null,
   "metadata": {},
   "outputs": [],
   "source": []
  },
  {
   "cell_type": "code",
   "execution_count": null,
   "metadata": {},
   "outputs": [],
   "source": []
  },
  {
   "cell_type": "code",
   "execution_count": null,
   "metadata": {},
   "outputs": [],
   "source": []
  },
  {
   "cell_type": "code",
   "execution_count": null,
   "metadata": {},
   "outputs": [],
   "source": []
  }
 ],
 "metadata": {
  "kernelspec": {
   "display_name": "OpenAI@3111",
   "language": "python",
   "name": "python3"
  },
  "language_info": {
   "codemirror_mode": {
    "name": "ipython",
    "version": 3
   },
   "file_extension": ".py",
   "mimetype": "text/x-python",
   "name": "python",
   "nbconvert_exporter": "python",
   "pygments_lexer": "ipython3",
   "version": "3.11.0"
  },
  "orig_nbformat": 4
 },
 "nbformat": 4,
 "nbformat_minor": 2
}
